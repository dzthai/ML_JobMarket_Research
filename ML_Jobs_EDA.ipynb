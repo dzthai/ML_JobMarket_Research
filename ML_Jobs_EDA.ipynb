{
 "cells": [
  {
   "cell_type": "code",
   "execution_count": 2,
   "id": "605ffb51-a0bb-40ee-a99d-c1e4709ebbfb",
   "metadata": {},
   "outputs": [
    {
     "name": "stdout",
     "output_type": "stream",
     "text": [
      "Downloading from https://www.kaggle.com/api/v1/datasets/download/ivankmk/thousand-ml-jobs-in-usa?dataset_version_number=1...\n"
     ]
    },
    {
     "name": "stderr",
     "output_type": "stream",
     "text": [
      "100%|██████████████████████████████████████| 1.60M/1.60M [00:00<00:00, 13.2MB/s]"
     ]
    },
    {
     "name": "stdout",
     "output_type": "stream",
     "text": [
      "Extracting files...\n",
      "Path to dataset files: /Users/dzthai/.cache/kagglehub/datasets/ivankmk/thousand-ml-jobs-in-usa/versions/1\n"
     ]
    },
    {
     "name": "stderr",
     "output_type": "stream",
     "text": [
      "\n"
     ]
    }
   ],
   "source": [
    "# using kagglehub or kaggle library — they will pick up ~/.kaggle/kaggle.json automatically\n",
    "import kagglehub\n",
    "\n",
    "path = kagglehub.dataset_download(\"ivankmk/thousand-ml-jobs-in-usa\")\n",
    "print(\"Path to dataset files:\", path)"
   ]
  },
  {
   "cell_type": "code",
   "execution_count": null,
   "id": "1cfebc8d-173f-43aa-b512-5b0037fff1ca",
   "metadata": {},
   "outputs": [],
   "source": [
    "# Imports\n",
    "import pandas as pd\n",
    "import numpy as np\n",
    "import matplotlib.pyplot as plt\n",
    "import seaborn as sns\n",
    "\n",
    "# Display settings\n",
    "sns.set_style('whitegrid')\n",
    "pd.set_option('display.max_columns', 50)\n",
    "pd.set_option('display.max_rows', 20)\n",
    "\n",
    "# Load data\n",
    "# Replace “ml_jobs.csv” with your actual file path\n",
    "df = pd.read_csv('ml_jobs.csv', low_memory=False)\n",
    "print(\"Loaded dataframe with shape:\", df.shape)\n",
    "df.head()\n",
    "\n",
    "# Basic summary\n",
    "print(\"\\n--- Info ---\")\n",
    "df.info()\n",
    "print(\"\\n--- Missing values ---\")\n",
    "print(df.isna().sum().sort_values(ascending=False).head(20))\n",
    "print(\"\\n--- Basic description (for numeric if any) ---\")\n",
    "print(df.describe(include=[np.number]))\n",
    "print(\"\\n--- Basic description (for object columns) ---\")\n",
    "print(df.describe(include=[object]).T)\n",
    "\n",
    "# Example of columns you might expect: “job_title”, “company”, “location”, “date_posted”, “job_description”, etc.\n",
    "# Make sure to inspect actual column names:\n",
    "print(\"\\nColumns:\", df.columns.tolist())\n",
    "\n",
    "# Clean / transform date column if present\n",
    "if 'date_posted' in df.columns:\n",
    "    df['date_posted'] = pd.to_datetime(df['date_posted'], errors='coerce')\n",
    "    print(\"\\nDate range:\", df['date_posted'].min(), \"->\", df['date_posted'].max())\n",
    "\n",
    "# Extract seniority from job titles\n",
    "def extract_seniority(title):\n",
    "    title_lower = str(title).lower()\n",
    "    if 'senior' in title_lower or 'lead' in title_lower or 'principal' in title_lower:\n",
    "        return 'Senior'\n",
    "    elif 'junior' in title_lower or 'entry' in title_lower or 'associate' in title_lower:\n",
    "        return 'Junior'\n",
    "    else:\n",
    "        return 'Mid'\n",
    "    \n",
    "df['seniority'] = df['job_title'].apply(extract_seniority)\n",
    "print(\"\\nSeniority distribution:\")\n",
    "print(df['seniority'].value_counts())\n",
    "\n",
    "# Basic visualizations\n",
    "plt.figure(figsize=(8,5))\n",
    "sns.countplot(data=df, x='seniority', order=['Junior','Mid','Senior'])\n",
    "plt.title('Job postings by seniority')\n",
    "plt.show()\n",
    "\n",
    "# Locations distribution\n",
    "if 'location' in df.columns:\n",
    "    top_locations = df['location'].value_counts().nlargest(10)\n",
    "    print(\"\\nTop 10 locations (by posting count):\")\n",
    "    print(top_locations)\n",
    "    \n",
    "    plt.figure(figsize=(10,6))\n",
    "    sns.barplot(y=top_locations.index, x=top_locations.values, palette='viridis')\n",
    "    plt.title('Top 10 locations for ML job postings')\n",
    "    plt.xlabel('Number of postings')\n",
    "    plt.ylabel('Location')\n",
    "    plt.show()\n",
    "\n",
    "# Word-cloud / frequent words in job titles or descriptions\n",
    "from collections import Counter\n",
    "import re\n",
    "\n",
    "def clean_text(text):\n",
    "    text = str(text).lower()\n",
    "    text = re.sub(r'[^a-z0-9\\s]', ' ', text)\n",
    "    return text\n",
    "\n",
    "# sample on job_title\n",
    "all_titles = \" \".join(df['job_title'].dropna().astype(str).tolist())\n",
    "words = clean_text(all_titles).split()\n",
    "common_words = Counter(words).most_common(30)\n",
    "print(\"\\nMost common words in job titles:\")\n",
    "print(common_words)\n",
    "\n",
    "# If job_description exists, maybe show length\n",
    "if 'job_description' in df.columns:\n",
    "    df['desc_length'] = df['job_description'].astype(str).apply(len)\n",
    "    print(\"\\nJob description length stats:\")\n",
    "    print(df['desc_length'].describe())\n",
    "    \n",
    "    plt.figure(figsize=(8,5))\n",
    "    sns.histplot(df['desc_length'], bins=50)\n",
    "    plt.title('Distribution of job description lengths')\n",
    "    plt.xlabel('Length (characters)')\n",
    "    plt.show()\n",
    "\n",
    "# Filter to ML Engineer roles specifically (if you want to focus)\n",
    "ml_roles = df[df['job_title'].str.contains(r'(?i)machine learning engineer|ml engineer', na=False)]\n",
    "print(\"\\nFiltered ML Engineer roles: count =\", ml_roles.shape[0])\n",
    "ml_roles['seniority'].value_counts().plot(kind='bar', figsize=(6,4))\n",
    "plt.title('Seniority distribution among ML Engineer roles')\n",
    "plt.show()\n",
    "\n",
    "# Save a cleaned subset if needed\n",
    "ml_roles.to_csv('ml_engineer_roles_subset.csv', index=False)\n",
    "print(\"\\nSaved subset of ML Engineer roles to CSV.\")\n",
    "\n",
    "# Further steps you might consider:\n",
    "# - Extract required skills/technologies from descriptions (regex for “TensorFlow”, “PyTorch”, “MLOps”, etc.)\n",
    "# - Time-series analysis: postings over time (if date_posted is available)\n",
    "# - Salary information (if available)\n",
    "# - Company size / industry (if columns exist)\n",
    "# - Text-embedding / NLP clustering of job descriptions\n",
    "\n",
    "print(\"\\n*** End of preliminary EDA ***\")"
   ]
  }
 ],
 "metadata": {
  "kernelspec": {
   "display_name": "Python 3 (ipykernel)",
   "language": "python",
   "name": "python3"
  },
  "language_info": {
   "codemirror_mode": {
    "name": "ipython",
    "version": 3
   },
   "file_extension": ".py",
   "mimetype": "text/x-python",
   "name": "python",
   "nbconvert_exporter": "python",
   "pygments_lexer": "ipython3",
   "version": "3.13.5"
  }
 },
 "nbformat": 4,
 "nbformat_minor": 5
}
